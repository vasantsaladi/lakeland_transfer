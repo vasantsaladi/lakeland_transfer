{
 "cells": [
  {
   "cell_type": "code",
   "execution_count": 2,
   "metadata": {},
   "outputs": [],
   "source": [
    "import pandas as pd\n",
    "import numpy as np\n",
    "\n"
   ]
  },
  {
   "cell_type": "code",
   "execution_count": 11,
   "metadata": {},
   "outputs": [
    {
     "name": "stdout",
     "output_type": "stream",
     "text": [
      "\n",
      "Sample of each census year:\n",
      "\n",
      "1900 Census Columns: ['pk', 'dwelling', 'family', 'last_name', 'first_name', 'head_last', 'head_first', 'relation_head', 'race', 'sex', 'age', 'marital', 'place_birth', 'work', 'owned_rented']\n",
      "\n",
      "1920 Census Columns: ['pk', 'dwelling number', 'family', 'last_name', 'first_name', 'relation_head', 'head_last', 'head_first', 'sex', 'race', 'marital', 'age', 'place_birth', 'work', 'business', 'owned_rented']\n",
      "\n",
      "1930 Census Columns: ['pk', 'dwelling number', 'family', 'street_name', 'last_name', 'first_name', 'relation_head', 'sex', 'race', 'marital', 'age', 'place_birth', 'work', 'business', 'owned_rented']\n",
      "\n",
      "1940 Census Columns: ['pk', 'ed', 'house_num', 'street_name', 'last_name', 'first_name', 'relation_head', 'head_last', 'head_first', 'sex', 'race', 'marital', 'age', 'place_birth', 'work', 'business', 'owned_rented']\n"
     ]
    }
   ],
   "source": [
    "# Read census files\n",
    "df_1900 = pd.read_csv('data/lakeland_1900_census.csv')\n",
    "df_1920 = pd.read_csv('data/lakeland_1920_census.csv')\n",
    "df_1930 = pd.read_csv('data/lakeland_1930_census.csv')\n",
    "df_1940 = pd.read_csv('data/lakeland_1940_census.csv')\n",
    "\n",
    "# Print sample of each DataFrame\n",
    "print(\"\\nSample of each census year:\")\n",
    "for year, df in [('1900', df_1900), ('1920', df_1920), \n",
    "                 ('1930', df_1930), ('1940', df_1940)]:\n",
    "    print(f\"\\n{year} Census Columns:\", df.columns.tolist())\n",
    "\n"
   ]
  },
  {
   "cell_type": "code",
   "execution_count": null,
   "metadata": {},
   "outputs": [],
   "source": []
  },
  {
   "cell_type": "code",
   "execution_count": null,
   "metadata": {},
   "outputs": [],
   "source": []
  },
  {
   "cell_type": "code",
   "execution_count": null,
   "metadata": {},
   "outputs": [],
   "source": []
  },
  {
   "cell_type": "code",
   "execution_count": null,
   "metadata": {},
   "outputs": [],
   "source": []
  },
  {
   "cell_type": "code",
   "execution_count": null,
   "metadata": {},
   "outputs": [],
   "source": []
  },
  {
   "cell_type": "code",
   "execution_count": null,
   "metadata": {},
   "outputs": [],
   "source": []
  }
 ],
 "metadata": {
  "kernelspec": {
   "display_name": "lt",
   "language": "python",
   "name": "python3"
  },
  "language_info": {
   "codemirror_mode": {
    "name": "ipython",
    "version": 3
   },
   "file_extension": ".py",
   "mimetype": "text/x-python",
   "name": "python",
   "nbconvert_exporter": "python",
   "pygments_lexer": "ipython3",
   "version": "3.9.20"
  }
 },
 "nbformat": 4,
 "nbformat_minor": 2
}
